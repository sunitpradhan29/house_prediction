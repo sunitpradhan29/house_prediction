{
 "cells": [
  {
   "cell_type": "code",
   "execution_count": 7,
   "id": "efaa6e85",
   "metadata": {},
   "outputs": [
    {
     "name": "stdout",
     "output_type": "stream",
     "text": [
      "Requirement already satisfied: xgboost in c:\\users\\sunit\\appdata\\local\\packages\\pythonsoftwarefoundation.python.3.11_qbz5n2kfra8p0\\localcache\\local-packages\\python311\\site-packages (3.0.2)\n",
      "Requirement already satisfied: numpy in c:\\users\\sunit\\appdata\\local\\packages\\pythonsoftwarefoundation.python.3.11_qbz5n2kfra8p0\\localcache\\local-packages\\python311\\site-packages (from xgboost) (1.26.4)\n",
      "Requirement already satisfied: scipy in c:\\users\\sunit\\appdata\\local\\packages\\pythonsoftwarefoundation.python.3.11_qbz5n2kfra8p0\\localcache\\local-packages\\python311\\site-packages (from xgboost) (1.12.0)\n",
      "Note: you may need to restart the kernel to use updated packages.\n"
     ]
    },
    {
     "name": "stderr",
     "output_type": "stream",
     "text": [
      "\n",
      "[notice] A new release of pip is available: 24.3.1 -> 25.1.1\n",
      "[notice] To update, run: C:\\Users\\sunit\\AppData\\Local\\Microsoft\\WindowsApps\\PythonSoftwareFoundation.Python.3.11_qbz5n2kfra8p0\\python.exe -m pip install --upgrade pip\n"
     ]
    }
   ],
   "source": [
    "pip install xgboost"
   ]
  },
  {
   "cell_type": "code",
   "execution_count": 8,
   "id": "e5d3d6f1",
   "metadata": {},
   "outputs": [
    {
     "name": "stdout",
     "output_type": "stream",
     "text": [
      "Validation RMSE: 26157.831094524598\n",
      "Submission file created successfully as 'submission.csv'!\n"
     ]
    }
   ],
   "source": [
    "# Import libraries\n",
    "import pandas as pd\n",
    "import numpy as np\n",
    "import matplotlib.pyplot as plt\n",
    "import seaborn as sns\n",
    "\n",
    "from sklearn.model_selection import train_test_split\n",
    "from sklearn.preprocessing import StandardScaler\n",
    "from sklearn.metrics import mean_squared_error\n",
    "from xgboost import XGBRegressor \n",
    "\n",
    "# Load data\n",
    "train_data = pd.read_csv(r'C:\\Users\\sunit\\OneDrive\\Desktop\\house_prediction\\train.csv')\n",
    "test_data = pd.read_csv(r'C:\\Users\\sunit\\OneDrive\\Desktop\\house_prediction\\test.csv')\n",
    "\n",
    "# Save ID and target\n",
    "train_ID = train_data['Id']\n",
    "test_ID = test_data['Id']\n",
    "y = train_data['SalePrice']\n",
    "\n",
    "# Drop ID and SalePrice from train\n",
    "train_data.drop(['Id', 'SalePrice'], axis=1, inplace=True)\n",
    "test_data.drop(['Id'], axis=1, inplace=True)\n",
    "\n",
    "# Combine train and test for preprocessing\n",
    "combined = pd.concat([train_data, test_data], axis=0, ignore_index=True)\n",
    "\n",
    "# Fill missing values with mode\n",
    "combined = combined.fillna(combined.mode().iloc[0])\n",
    "\n",
    "# One-hot encode categorical variables\n",
    "combined = pd.get_dummies(combined)\n",
    "\n",
    "# Separate train and test\n",
    "X = combined[:len(y)]\n",
    "X_test = combined[len(y):]\n",
    "\n",
    "# Feature scaling\n",
    "scaler = StandardScaler()\n",
    "X_scaled = scaler.fit_transform(X)\n",
    "X_test_scaled = scaler.transform(X_test)\n",
    "\n",
    "# Train-test split\n",
    "X_train, X_valid, y_train, y_valid = train_test_split(X_scaled, y, test_size=0.2, random_state=42)\n",
    "\n",
    "# Train XGBoost model\n",
    "model = XGBRegressor(n_estimators=100, learning_rate=0.05, random_state=42)\n",
    "model.fit(X_train, y_train)\n",
    "\n",
    "# Predict on validation set\n",
    "y_pred = model.predict(X_valid)\n",
    "rmse = np.sqrt(mean_squared_error(y_valid, y_pred))\n",
    "print(f\"Validation RMSE: {rmse}\")\n",
    "\n",
    "# Predict on test set\n",
    "final_predictions = model.predict(X_test_scaled)\n",
    "\n",
    "# Prepare submission\n",
    "submission = pd.DataFrame({\n",
    "    'Id': test_ID,\n",
    "    'SalePrice': final_predictions\n",
    "})\n",
    "submission.to_csv('submission.csv', index=False)\n",
    "print(\"Submission file created successfully as 'submission.csv'!\")\n"
   ]
  },
  {
   "cell_type": "code",
   "execution_count": 9,
   "id": "5fdb00dc",
   "metadata": {},
   "outputs": [
    {
     "name": "stdout",
     "output_type": "stream",
     "text": [
      "Submission file created!\n"
     ]
    }
   ],
   "source": [
    "final_predictions = model.predict(X_test_scaled)\n",
    "\n",
    "# Submission file\n",
    "submission = pd.DataFrame({\n",
    "    'Id': test_ID,\n",
    "    'SalePrice': final_predictions\n",
    "})\n",
    "submission.to_csv(r'C:\\Users\\sunit\\OneDrive\\Desktop\\house_prediction\\submission.csv', index=False)\n",
    "print(\"Submission file created!\")\n"
   ]
  },
  {
   "cell_type": "code",
   "execution_count": 10,
   "id": "146c224d",
   "metadata": {},
   "outputs": [
    {
     "name": "stdout",
     "output_type": "stream",
     "text": [
      "     Id  SalePrice\n",
      "0  1461  127699.30\n",
      "1  1462  158519.90\n",
      "2  1463  181772.31\n",
      "3  1464  185595.80\n",
      "4  1465  199014.38\n",
      "<class 'pandas.core.frame.DataFrame'>\n",
      "RangeIndex: 1459 entries, 0 to 1458\n",
      "Data columns (total 2 columns):\n",
      " #   Column     Non-Null Count  Dtype  \n",
      "---  ------     --------------  -----  \n",
      " 0   Id         1459 non-null   int64  \n",
      " 1   SalePrice  1459 non-null   float64\n",
      "dtypes: float64(1), int64(1)\n",
      "memory usage: 22.9 KB\n",
      "None\n"
     ]
    },
    {
     "data": {
      "image/png": "[encoded data removed]",
      "text/plain": [
       "<Figure size 640x480 with 1 Axes>"
      ]
     },
     "metadata": {},
     "output_type": "display_data"
    }
   ],
   "source": [
    "import pandas as pd\n",
    "import matplotlib.pyplot as plt\n",
    "\n",
    "# Load the dataset\n",
    "df = pd.read_csv('submission.csv')\n",
    "\n",
    "# Display the first few rows and summary of the dataframe\n",
    "print(df.head())\n",
    "print(df.info())\n",
    "\n",
    "# Plot a histogram of the 'SalePrice'\n",
    "plt.hist(df['SalePrice'], bins=30, edgecolor='black')\n",
    "plt.title('Distribution of SalePrice')\n",
    "plt.xlabel('SalePrice')\n",
    "plt.ylabel('Frequency')\n",
    "plt.grid(axis='y', alpha=0.75)\n",
    "\n",
    "# Save the plot\n",
    "plt.savefig('saleprice_histogram.png')"
   ]
  },
  {
   "cell_type": "code",
   "execution_count": 11,
   "id": "7fead666",
   "metadata": {},
   "outputs": [
    {
     "name": "stdout",
     "output_type": "stream",
     "text": [
      "The house with the highest SalePrice is:\n",
      "Id             2629.0\n",
      "SalePrice    551997.5\n",
      "Name: 1168, dtype: float64\n"
     ]
    }
   ],
   "source": [
    "best_house = df.loc[df['SalePrice'].idxmax()]\n",
    "print(\"The house with the highest SalePrice is:\")\n",
    "print(best_house)"
   ]
  },
  {
   "cell_type": "code",
   "execution_count": null,
   "id": "95c0f327",
   "metadata": {},
   "outputs": [],
   "source": []
  }
 ],
 "metadata": {
  "kernelspec": {
   "display_name": "Python 3",
   "language": "python",
   "name": "python3"
  },
  "language_info": {
   "codemirror_mode": {
    "name": "ipython",
    "version": 3
   },
   "file_extension": ".py",
   "mimetype": "text/x-python",
   "name": "python",
   "nbconvert_exporter": "python",
   "pygments_lexer": "ipython3",
   "version": "3.11.9"
  }
 },
 "nbformat": 4,
 "nbformat_minor": 5
}
